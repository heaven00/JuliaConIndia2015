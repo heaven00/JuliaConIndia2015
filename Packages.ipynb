{
 "cells": [
  {
   "cell_type": "markdown",
   "metadata": {},
   "source": [
    "# Julia Package Manager"
   ]
  },
  {
   "cell_type": "markdown",
   "metadata": {},
   "source": [
    "* Based on git\n",
    "* Central metadata repository (https://github.com/JuliaLang/METADATA.jl)\n",
    "* Getting *and contributing to* code integrated from the command line\n",
    "* Packages go in ~/.julia/v0.3\n",
    "* Check out http://pkg.julialang.org"
   ]
  },
  {
   "cell_type": "markdown",
   "metadata": {},
   "source": [
    "## Important package operations\n",
    "\n",
    "* `Pkg.add(\"Package\")`, `Pkg.rm(\"Package\")`\n",
    "* `Pkg.update()`\n",
    "* `Pkg.status()`\n",
    "* `Pkg.test([name])`"
   ]
  },
  {
   "cell_type": "markdown",
   "metadata": {},
   "source": [
    "# Becoming a package developer or contributor\n",
    "\n",
    "* Create a GitHub account\n",
    "\n",
    "* Configure `git`\n",
    "\n",
    "`$ git config --global user.name \"FULL NAME\"`\n",
    "\n",
    "`$ git config --global user.email \"EMAIL\"`\n",
    "\n",
    "`$ git config --global github.user \"USERNAME\"`"
   ]
  },
  {
   "cell_type": "raw",
   "metadata": {},
   "source": [
    "<table>\n",
    "<tr>\n",
    "<td> `Pkg.generate(\"FooBar\",\"license\")`  <td>  creates a package on disk\n",
    "<tr>\n",
    "<td>`Pkg.register(\"FooBar\")`  <td>  adds to METADATA locally\n",
    "<tr>\n",
    "<td>`Pkg.publish()`  <td>  pushes METADATA changes\n",
    "<tr>\n",
    "<td>`Pkg.tag(\"FooBar\")`  <td>  tag a version locally\n",
    "</tr>\n",
    "</table>"
   ]
  },
  {
   "cell_type": "code",
   "execution_count": null,
   "metadata": {
    "collapsed": false
   },
   "outputs": [],
   "source": [
    "Pkg.generate(\"TestPackage\",\"MIT\")"
   ]
  },
  {
   "cell_type": "code",
   "execution_count": null,
   "metadata": {
    "collapsed": false
   },
   "outputs": [],
   "source": [
    ";ls /home/jeff/.julia/v0.3/TestPackage"
   ]
  },
  {
   "cell_type": "markdown",
   "metadata": {},
   "source": [
    "## More advanced package operations\n",
    "\n",
    "<table>\n",
    "<tr>\n",
    "<td> `Pkg.clone(url)`  <td>  install unregistered package\n",
    "</tr>\n",
    "<tr>\n",
    "<td> `Pkg.checkout(\"Package\"[, branch])`  <td>    switch a package to a development branch\n",
    "</tr>\n",
    "<tr>\n",
    "<td> `Pkg.build(name)`  <td>    rerun the build script for a package\n",
    "</tr>\n",
    "<tr>\n",
    "<td> `Pkg.dependents(name)` <td> array of packages that depend on a given package\n",
    "</tr>\n",
    "<tr>\n",
    "<td> `Pkg.installed()` <td> dictionary of installed packages and their versions\n",
    "</tr>\n",
    "</table>\n"
   ]
  },
  {
   "cell_type": "markdown",
   "metadata": {},
   "source": [
    "# Modules"
   ]
  },
  {
   "cell_type": "markdown",
   "metadata": {},
   "source": [
    "A *module* is a way to encapsulate code in a namespace. The syntax is as follows\n",
    "\n",
    "```\n",
    "module NAME\n",
    "\n",
    "import Base.show, Base.getindex   # imports to extend Base functions\n",
    "export A, B   # exports\n",
    "\n",
    "...\n",
    "\n",
    "end\n",
    "```\n",
    "\n",
    "We can then do\n",
    "`using NAME` \n",
    "to use the functionality."
   ]
  },
  {
   "cell_type": "markdown",
   "metadata": {},
   "source": [
    "# Some popular packages"
   ]
  },
  {
   "cell_type": "code",
   "execution_count": null,
   "metadata": {
    "collapsed": false
   },
   "outputs": [],
   "source": [
    "using Distributions"
   ]
  },
  {
   "cell_type": "code",
   "execution_count": null,
   "metadata": {
    "collapsed": false
   },
   "outputs": [],
   "source": [
    "d = Distributions.Poisson()"
   ]
  },
  {
   "cell_type": "code",
   "execution_count": null,
   "metadata": {
    "collapsed": false
   },
   "outputs": [],
   "source": [
    "rand(d, 10)"
   ]
  },
  {
   "cell_type": "code",
   "execution_count": null,
   "metadata": {
    "collapsed": false
   },
   "outputs": [],
   "source": [
    "methods(Normal)"
   ]
  },
  {
   "cell_type": "code",
   "execution_count": null,
   "metadata": {
    "collapsed": false
   },
   "outputs": [],
   "source": [
    "d = Normal(10, .001)"
   ]
  },
  {
   "cell_type": "code",
   "execution_count": null,
   "metadata": {
    "collapsed": false
   },
   "outputs": [],
   "source": [
    "rand(d, 10)"
   ]
  },
  {
   "cell_type": "code",
   "execution_count": null,
   "metadata": {
    "collapsed": false
   },
   "outputs": [],
   "source": [
    "using Color"
   ]
  },
  {
   "cell_type": "code",
   "execution_count": null,
   "metadata": {
    "collapsed": false
   },
   "outputs": [],
   "source": [
    "[ HSV(h, s, 1) for h = 0:20:360, s = 0:.1:1 ]"
   ]
  },
  {
   "cell_type": "code",
   "execution_count": null,
   "metadata": {
    "collapsed": false
   },
   "outputs": [],
   "source": [
    "using FixedPointNumbers"
   ]
  },
  {
   "cell_type": "code",
   "execution_count": null,
   "metadata": {
    "collapsed": false
   },
   "outputs": [],
   "source": [
    "x = convert(Fixed32{20}, 1.0pi)"
   ]
  },
  {
   "cell_type": "code",
   "execution_count": null,
   "metadata": {
    "collapsed": false
   },
   "outputs": [],
   "source": [
    "dump(x)"
   ]
  },
  {
   "cell_type": "markdown",
   "metadata": {},
   "source": [
    "## Some of the best out of ~500"
   ]
  },
  {
   "cell_type": "markdown",
   "metadata": {},
   "source": [
    "<table>\n",
    "<tr>\n",
    "<td> <b>Package</b> <td> <b>Description</b>\n",
    "<tr>\n",
    "<td> AWS <td> Interface to Amazon Web Services\n",
    "<tr>\n",
    "<td> Calendar <td> Calendar time\n",
    "<tr>\n",
    "<td> Clang <td> Julia interface to libclang and C wrapper generator\n",
    "<tr>\n",
    "<td> Clustering <td> Data clustering\n",
    "<tr>\n",
    "<td> ClusterManagers <td> Interface to several cluster/grid managers\n",
    "<tr>\n",
    "<td> Compose <td> Declarative vector graphics\n",
    "<tr>\n",
    "<td> <b>DataFrames</b> <td> Tabular data (ala SQL or R)\n",
    "<tr>\n",
    "<td> <b>Dates</b> <td> Dates and times (in Base library in v0.4)\n",
    "<tr>\n",
    "<td> Debug <td> Interactive debugger\n",
    "<tr>\n",
    "<td> <b>Distributions</b> <td> Many probability distributions and associated functions\n",
    "<tr>\n",
    "<td> DoubleDouble <td> Extended precision arithmetic\n",
    "<tr>\n",
    "<td> <b>Gadfly</b> <td> Statistical graphics, beautiful plots\n",
    "<tr>\n",
    "<td> HDF5 <td> Saving Julia data in standard formats\n",
    "<tr>\n",
    "<td> JavaCall <td> Java interop\n",
    "<tr>\n",
    "<td> <b>JuMP</b> <td> Modeling language for optimization problems - supports many solver backends\n",
    "<tr>\n",
    "<td> PGFPlots <td> Beautiful plots based on LaTeX\n",
    "<tr>\n",
    "<td> ProfileView <td> Profile data visualizer\n",
    "<tr>\n",
    "<td> PyCall <td> Python interop\n",
    "<tr>\n",
    "<td> TimeSeries <td> Time series toolkit\n",
    "<tr>\n",
    "<td> Units <td> Support for quantities with physical units\n",
    "</table>"
   ]
  }
 ],
 "metadata": {
  "kernelspec": {
   "display_name": "Julia 0.4.0",
   "language": "julia",
   "name": "julia-0.4"
  },
  "language_info": {
   "file_extension": ".jl",
   "mimetype": "application/julia",
   "name": "julia",
   "version": "0.4.0"
  }
 },
 "nbformat": 4,
 "nbformat_minor": 0
}
